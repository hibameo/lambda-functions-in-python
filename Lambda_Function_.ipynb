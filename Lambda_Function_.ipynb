{
  "nbformat": 4,
  "nbformat_minor": 0,
  "metadata": {
    "colab": {
      "provenance": [],
      "authorship_tag": "ABX9TyNV0Wq7AXq7Jvx0BI59OTSC",
      "include_colab_link": true
    },
    "kernelspec": {
      "name": "python3",
      "display_name": "Python 3"
    },
    "language_info": {
      "name": "python"
    }
  },
  "cells": [
    {
      "cell_type": "markdown",
      "metadata": {
        "id": "view-in-github",
        "colab_type": "text"
      },
      "source": [
        "<a href=\"https://colab.research.google.com/github/hibameo/lambda-functions-in-python/blob/main/Lambda_Function_.ipynb\" target=\"_parent\"><img src=\"https://colab.research.google.com/assets/colab-badge.svg\" alt=\"Open In Colab\"/></a>"
      ]
    },
    {
      "cell_type": "markdown",
      "source": [
        "Lambda functions Python mein ek tarah ki anonymous functions (nameless functions) hoti hain, jo ek hi line mein likhi jati hain. Ye def se likhi gai normal functions ki tarah hi kaam karti hain, lekin chhoti aur simple expressions ke liye use hoti hain.\n",
        "\n"
      ],
      "metadata": {
        "id": "y3lXqwfq-CzY"
      }
    },
    {
      "cell_type": "markdown",
      "source": [
        "Lambda Function Ka Syntax"
      ],
      "metadata": {
        "id": "WsgRYW46-Jt_"
      }
    },
    {
      "cell_type": "code",
      "execution_count": 9,
      "metadata": {
        "colab": {
          "base_uri": "https://localhost:8080/"
        },
        "id": "lcJ1P7ow98GZ",
        "outputId": "0f7efbb8-8829-4764-f45b-dc26bdb43847"
      },
      "outputs": [
        {
          "output_type": "execute_result",
          "data": {
            "text/plain": [
              "<function __main__.<lambda>(arguments)>"
            ]
          },
          "metadata": {},
          "execution_count": 9
        }
      ],
      "source": [
        "lambda arguments: expression\n"
      ]
    },
    {
      "cell_type": "markdown",
      "source": [
        ". lambda keyword use hota hai function banane ke liye.\n",
        "\n",
        ". arguments yani input values hoti hain.\n",
        "\n",
        ". expression yani woh calculation ya operation jo return hoga.\n",
        "\n"
      ],
      "metadata": {
        "id": "RGxSYNTy-UjS"
      }
    },
    {
      "cell_type": "markdown",
      "source": [
        "Example 1: Simple Lambda Function"
      ],
      "metadata": {
        "id": "3DZOVw5j-dv-"
      }
    },
    {
      "cell_type": "code",
      "source": [
        "add = lambda x, y: x + y\n",
        "print(add(5, 3))  # Output: 8\n"
      ],
      "metadata": {
        "colab": {
          "base_uri": "https://localhost:8080/"
        },
        "id": "OqKq8xe7-gMm",
        "outputId": "e3ddfccd-d107-4294-dd80-0edeb5b76414"
      },
      "execution_count": 2,
      "outputs": [
        {
          "output_type": "stream",
          "name": "stdout",
          "text": [
            "8\n"
          ]
        }
      ]
    },
    {
      "cell_type": "markdown",
      "source": [
        "Explanation:\n",
        "\n",
        "lambda x, y: x + y ek function hai jo x aur y ka sum return karta hai.\n",
        "\n",
        "add(5, 3) ka matlab hai 5 + 3, jo output 8 dega.\n",
        "\n"
      ],
      "metadata": {
        "id": "1eiFiAW1-kHW"
      }
    },
    {
      "cell_type": "markdown",
      "source": [
        "Example 2: Square of a Number"
      ],
      "metadata": {
        "id": "fEyz5Srm-n3P"
      }
    },
    {
      "cell_type": "code",
      "source": [
        "square = lambda x: x ** 2\n",
        "print(square(4))  # Output: 16\n"
      ],
      "metadata": {
        "colab": {
          "base_uri": "https://localhost:8080/"
        },
        "id": "0v9q4ROi-p6N",
        "outputId": "3bb6414f-a11a-423e-a449-2b76e73e9927"
      },
      "execution_count": 3,
      "outputs": [
        {
          "output_type": "stream",
          "name": "stdout",
          "text": [
            "16\n"
          ]
        }
      ]
    },
    {
      "cell_type": "markdown",
      "source": [
        "Yeh function kisi bhi number ka square return karega.\n",
        "\n"
      ],
      "metadata": {
        "id": "IVE-ugij-uSE"
      }
    },
    {
      "cell_type": "markdown",
      "source": [
        "Example 3: Checking Even or Odd"
      ],
      "metadata": {
        "id": "XwRS_tOq-xwA"
      }
    },
    {
      "cell_type": "code",
      "source": [
        "is_even = lambda x: \"Even\" if x % 2 == 0 else \"Odd\"\n",
        "print(is_even(7))  # Output: Odd\n"
      ],
      "metadata": {
        "colab": {
          "base_uri": "https://localhost:8080/"
        },
        "id": "GpjRVoog-zxP",
        "outputId": "6e61f65d-4f82-4377-d746-8e14e002e81c"
      },
      "execution_count": 4,
      "outputs": [
        {
          "output_type": "stream",
          "name": "stdout",
          "text": [
            "Odd\n"
          ]
        }
      ]
    },
    {
      "cell_type": "markdown",
      "source": [
        "Yeh function check karega ke number even hai ya odd."
      ],
      "metadata": {
        "id": "0tWOnxwN-4v0"
      }
    },
    {
      "cell_type": "markdown",
      "source": [
        "Example 4: Lambda in Sorting\n",
        "\n"
      ],
      "metadata": {
        "id": "jesT92Mj-8DA"
      }
    },
    {
      "cell_type": "code",
      "source": [
        "students = [(\"Ali\", 90), (\"Hiba\", 85), (\"Zain\", 95)]\n",
        "students.sort(key=lambda x: x[1])  # Sorting by marks\n",
        "print(students)\n"
      ],
      "metadata": {
        "colab": {
          "base_uri": "https://localhost:8080/"
        },
        "id": "bGhvVNcw_BJP",
        "outputId": "92eca92c-ba44-4ebf-fa4a-fa2bc6510b9a"
      },
      "execution_count": 5,
      "outputs": [
        {
          "output_type": "stream",
          "name": "stdout",
          "text": [
            "[('Hiba', 85), ('Ali', 90), ('Zain', 95)]\n"
          ]
        }
      ]
    },
    {
      "cell_type": "markdown",
      "source": [
        "Yeh lambda function marks ke basis par sorting karega."
      ],
      "metadata": {
        "id": "lvBHCnPw_E6F"
      }
    },
    {
      "cell_type": "markdown",
      "source": [
        "Example 5: Lambda with map(), filter(), reduce()"
      ],
      "metadata": {
        "id": "w5tiM0RR_Jsu"
      }
    },
    {
      "cell_type": "markdown",
      "source": [
        "1️⃣ map() (Apply Function on Each Element)\n",
        "\n"
      ],
      "metadata": {
        "id": "h4hYNwjD_NNU"
      }
    },
    {
      "cell_type": "code",
      "source": [
        "numbers = [1, 2, 3, 4]\n",
        "squares = list(map(lambda x: x ** 2, numbers))\n",
        "print(squares)  # Output: [1, 4, 9, 16]\n"
      ],
      "metadata": {
        "colab": {
          "base_uri": "https://localhost:8080/"
        },
        "id": "fuSwUehd_QkK",
        "outputId": "7422a5ac-ad99-4c45-8a81-078acade13ec"
      },
      "execution_count": 6,
      "outputs": [
        {
          "output_type": "stream",
          "name": "stdout",
          "text": [
            "[1, 4, 9, 16]\n"
          ]
        }
      ]
    },
    {
      "cell_type": "markdown",
      "source": [
        "2️⃣ filter() (Filter Elements Based on Condition)"
      ],
      "metadata": {
        "id": "0CS9ToJf_U0C"
      }
    },
    {
      "cell_type": "code",
      "source": [
        "numbers = [1, 2, 3, 4, 5, 6]\n",
        "evens = list(filter(lambda x: x % 2 == 0, numbers))\n",
        "print(evens)  # Output: [2, 4, 6]\n"
      ],
      "metadata": {
        "colab": {
          "base_uri": "https://localhost:8080/"
        },
        "id": "KKUXIOxc_XNV",
        "outputId": "2c42f918-aa97-4a6d-c739-85ce1a7b0dbc"
      },
      "execution_count": 7,
      "outputs": [
        {
          "output_type": "stream",
          "name": "stdout",
          "text": [
            "[2, 4, 6]\n"
          ]
        }
      ]
    },
    {
      "cell_type": "markdown",
      "source": [
        "3️⃣ reduce() (Reduce Elements to a Single Value)"
      ],
      "metadata": {
        "id": "i14CFE7j_bcH"
      }
    },
    {
      "cell_type": "code",
      "source": [
        "from functools import reduce\n",
        "numbers = [1, 2, 3, 4]\n",
        "sum_all = reduce(lambda x, y: x + y, numbers)\n",
        "print(sum_all)  # Output: 10\n"
      ],
      "metadata": {
        "colab": {
          "base_uri": "https://localhost:8080/"
        },
        "id": "45c8Tq9j_dfB",
        "outputId": "54b337d2-63c1-45e8-afc7-b82fdda79313"
      },
      "execution_count": 8,
      "outputs": [
        {
          "output_type": "stream",
          "name": "stdout",
          "text": [
            "10\n"
          ]
        }
      ]
    },
    {
      "cell_type": "markdown",
      "source": [
        "Kab Use Karein?\n",
        "\n",
        "\n",
        ". Jab ek chhoti function ki zaroorat ho.\n",
        "\n",
        "\n",
        ". Jab map(), filter(), ya sort() ke saath ek chhoti operation likhna ho.\n",
        "\n",
        "\n",
        ". Jab ek-line function likhna ho jo baar-baar use nahi hoga."
      ],
      "metadata": {
        "id": "U7IoQvoC_ivN"
      }
    }
  ]
}